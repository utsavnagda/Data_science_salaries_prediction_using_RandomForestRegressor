{
 "cells": [
  {
   "cell_type": "code",
   "execution_count": 1,
   "metadata": {},
   "outputs": [],
   "source": [
    "import pandas as pd\n",
    "import numpy as np\n",
    "import seaborn as sns\n",
    "import matplotlib.pyplot as plt\n",
    "%matplotlib inline"
   ]
  },
  {
   "cell_type": "code",
   "execution_count": 2,
   "metadata": {},
   "outputs": [],
   "source": [
    "df = pd.read_csv(\"v2_Latest_Data_Science_Salaries.csv\")"
   ]
  },
  {
   "cell_type": "code",
   "execution_count": 3,
   "metadata": {},
   "outputs": [
    {
     "data": {
      "text/html": [
       "<div>\n",
       "<style scoped>\n",
       "    .dataframe tbody tr th:only-of-type {\n",
       "        vertical-align: middle;\n",
       "    }\n",
       "\n",
       "    .dataframe tbody tr th {\n",
       "        vertical-align: top;\n",
       "    }\n",
       "\n",
       "    .dataframe thead th {\n",
       "        text-align: right;\n",
       "    }\n",
       "</style>\n",
       "<table border=\"1\" class=\"dataframe\">\n",
       "  <thead>\n",
       "    <tr style=\"text-align: right;\">\n",
       "      <th></th>\n",
       "      <th>Job Title</th>\n",
       "      <th>Employment Type</th>\n",
       "      <th>Experience Level</th>\n",
       "      <th>Expertise Level</th>\n",
       "      <th>Salary</th>\n",
       "      <th>Salary Currency</th>\n",
       "      <th>Company Location</th>\n",
       "      <th>Salary in USD</th>\n",
       "      <th>Employee Residence</th>\n",
       "      <th>Company Size</th>\n",
       "      <th>Year</th>\n",
       "    </tr>\n",
       "  </thead>\n",
       "  <tbody>\n",
       "    <tr>\n",
       "      <th>0</th>\n",
       "      <td>Machine Learning Manager</td>\n",
       "      <td>Full-Time</td>\n",
       "      <td>Senior</td>\n",
       "      <td>Expert</td>\n",
       "      <td>120000</td>\n",
       "      <td>Euro</td>\n",
       "      <td>United States</td>\n",
       "      <td>129562</td>\n",
       "      <td>Germany</td>\n",
       "      <td>Large</td>\n",
       "      <td>2023</td>\n",
       "    </tr>\n",
       "    <tr>\n",
       "      <th>1</th>\n",
       "      <td>BI Data Analyst</td>\n",
       "      <td>Full-Time</td>\n",
       "      <td>Entry</td>\n",
       "      <td>Junior</td>\n",
       "      <td>50000</td>\n",
       "      <td>United States Dollar</td>\n",
       "      <td>Kenya</td>\n",
       "      <td>50000</td>\n",
       "      <td>Kenya</td>\n",
       "      <td>Small</td>\n",
       "      <td>2023</td>\n",
       "    </tr>\n",
       "    <tr>\n",
       "      <th>2</th>\n",
       "      <td>AI Engineer</td>\n",
       "      <td>Full-Time</td>\n",
       "      <td>Senior</td>\n",
       "      <td>Expert</td>\n",
       "      <td>227850</td>\n",
       "      <td>United States Dollar</td>\n",
       "      <td>United States</td>\n",
       "      <td>227850</td>\n",
       "      <td>United States</td>\n",
       "      <td>Medium</td>\n",
       "      <td>2023</td>\n",
       "    </tr>\n",
       "    <tr>\n",
       "      <th>3</th>\n",
       "      <td>AI Engineer</td>\n",
       "      <td>Full-Time</td>\n",
       "      <td>Senior</td>\n",
       "      <td>Expert</td>\n",
       "      <td>180500</td>\n",
       "      <td>United States Dollar</td>\n",
       "      <td>United States</td>\n",
       "      <td>180500</td>\n",
       "      <td>United States</td>\n",
       "      <td>Medium</td>\n",
       "      <td>2023</td>\n",
       "    </tr>\n",
       "    <tr>\n",
       "      <th>4</th>\n",
       "      <td>Data Analyst</td>\n",
       "      <td>Full-Time</td>\n",
       "      <td>Mid</td>\n",
       "      <td>Intermediate</td>\n",
       "      <td>90000</td>\n",
       "      <td>United States Dollar</td>\n",
       "      <td>United States</td>\n",
       "      <td>90000</td>\n",
       "      <td>United States</td>\n",
       "      <td>Medium</td>\n",
       "      <td>2023</td>\n",
       "    </tr>\n",
       "  </tbody>\n",
       "</table>\n",
       "</div>"
      ],
      "text/plain": [
       "                  Job Title Employment Type Experience Level Expertise Level  \\\n",
       "0  Machine Learning Manager       Full-Time           Senior          Expert   \n",
       "1           BI Data Analyst       Full-Time            Entry          Junior   \n",
       "2               AI Engineer       Full-Time           Senior          Expert   \n",
       "3               AI Engineer       Full-Time           Senior          Expert   \n",
       "4              Data Analyst       Full-Time              Mid    Intermediate   \n",
       "\n",
       "   Salary       Salary Currency Company Location  Salary in USD  \\\n",
       "0  120000                  Euro    United States         129562   \n",
       "1   50000  United States Dollar            Kenya          50000   \n",
       "2  227850  United States Dollar    United States         227850   \n",
       "3  180500  United States Dollar    United States         180500   \n",
       "4   90000  United States Dollar    United States          90000   \n",
       "\n",
       "  Employee Residence Company Size  Year  \n",
       "0            Germany        Large  2023  \n",
       "1              Kenya        Small  2023  \n",
       "2      United States       Medium  2023  \n",
       "3      United States       Medium  2023  \n",
       "4      United States       Medium  2023  "
      ]
     },
     "execution_count": 3,
     "metadata": {},
     "output_type": "execute_result"
    }
   ],
   "source": [
    "df.head()"
   ]
  },
  {
   "cell_type": "code",
   "execution_count": 4,
   "metadata": {},
   "outputs": [
    {
     "name": "stdout",
     "output_type": "stream",
     "text": [
      "<class 'pandas.core.frame.DataFrame'>\n",
      "RangeIndex: 3470 entries, 0 to 3469\n",
      "Data columns (total 11 columns):\n",
      " #   Column              Non-Null Count  Dtype \n",
      "---  ------              --------------  ----- \n",
      " 0   Job Title           3470 non-null   object\n",
      " 1   Employment Type     3470 non-null   object\n",
      " 2   Experience Level    3470 non-null   object\n",
      " 3   Expertise Level     3470 non-null   object\n",
      " 4   Salary              3470 non-null   int64 \n",
      " 5   Salary Currency     3470 non-null   object\n",
      " 6   Company Location    3470 non-null   object\n",
      " 7   Salary in USD       3470 non-null   int64 \n",
      " 8   Employee Residence  3470 non-null   object\n",
      " 9   Company Size        3470 non-null   object\n",
      " 10  Year                3470 non-null   int64 \n",
      "dtypes: int64(3), object(8)\n",
      "memory usage: 298.3+ KB\n"
     ]
    }
   ],
   "source": [
    "df.info()"
   ]
  },
  {
   "cell_type": "code",
   "execution_count": 5,
   "metadata": {},
   "outputs": [],
   "source": [
    "df.drop(\"Salary in USD\",axis=1,inplace=True)"
   ]
  },
  {
   "cell_type": "code",
   "execution_count": 6,
   "metadata": {},
   "outputs": [],
   "source": [
    "X = df.drop([\"Salary\"],axis=1)\n",
    "y = df[\"Salary\"].astype(\"float64\")"
   ]
  },
  {
   "cell_type": "code",
   "execution_count": 33,
   "metadata": {},
   "outputs": [
    {
     "data": {
      "text/plain": [
       "0    120000.0\n",
       "1     50000.0\n",
       "2    227850.0\n",
       "3    180500.0\n",
       "4     90000.0\n",
       "Name: Salary, dtype: float64"
      ]
     },
     "execution_count": 33,
     "metadata": {},
     "output_type": "execute_result"
    }
   ],
   "source": [
    "y.head()"
   ]
  },
  {
   "cell_type": "code",
   "execution_count": 7,
   "metadata": {},
   "outputs": [],
   "source": [
    "#Train Test Split\n",
    "from sklearn.model_selection import train_test_split\n",
    "X_train,X_test,y_train,y_test=train_test_split(X,y,test_size=0.25,random_state=42)"
   ]
  },
  {
   "cell_type": "code",
   "execution_count": 8,
   "metadata": {},
   "outputs": [],
   "source": [
    "def col_div(df):\n",
    "    cat_col = []\n",
    "    num_col = []\n",
    "    for x in df.columns:\n",
    "        if df[x].dtype == \"object\":\n",
    "            cat_col.append(x)\n",
    "        else:\n",
    "            num_col.append(x)\n",
    "    return cat_col,num_col\n",
    "cat_col,num_col = col_div(X)"
   ]
  },
  {
   "cell_type": "code",
   "execution_count": 9,
   "metadata": {},
   "outputs": [],
   "source": [
    "from sklearn.preprocessing import StandardScaler, OneHotEncoder\n",
    "from sklearn.impute import SimpleImputer\n",
    "from sklearn.pipeline import Pipeline\n",
    "from sklearn.compose import ColumnTransformer\n",
    "from sklearn.ensemble import RandomForestRegressor\n",
    "from sklearn.tree import DecisionTreeRegressor\n",
    "from sklearn.svm import SVR\n",
    "from sklearn.metrics import r2_score\n",
    "from sklearn.model_selection import GridSearchCV,RandomizedSearchCV"
   ]
  },
  {
   "cell_type": "code",
   "execution_count": 10,
   "metadata": {},
   "outputs": [],
   "source": [
    "num_pipeline = Pipeline(steps=[\n",
    "    (\"imputer\", SimpleImputer(strategy=\"median\")),\n",
    "    (\"scaler\", StandardScaler())\n",
    "])\n",
    "cat_pipeline = Pipeline(steps=[\n",
    "    (\"imputer\", SimpleImputer(strategy=\"most_frequent\")),\n",
    "    (\"encoder\", OneHotEncoder(handle_unknown=\"ignore\"))\n",
    "])"
   ]
  },
  {
   "cell_type": "code",
   "execution_count": 11,
   "metadata": {},
   "outputs": [],
   "source": [
    "processor = ColumnTransformer([\n",
    "    (\"num_col\", num_pipeline, num_col),\n",
    "    (\"cat_col\", cat_pipeline, cat_col)\n",
    "])"
   ]
  },
  {
   "cell_type": "code",
   "execution_count": 12,
   "metadata": {},
   "outputs": [],
   "source": [
    "X_train = processor.fit_transform(X_train)\n",
    "X_test = processor.transform(X_test)"
   ]
  },
  {
   "cell_type": "code",
   "execution_count": 13,
   "metadata": {},
   "outputs": [],
   "source": [
    "# mod = RandomForestRegressor()\n",
    "# mod.fit(X_train,y_train)\n",
    "# y_test_pred = mod.predict(X_test)\n",
    "# print(mod.score(X_train,y_train))"
   ]
  },
  {
   "cell_type": "code",
   "execution_count": 14,
   "metadata": {},
   "outputs": [],
   "source": [
    "# r2_score(y_test_pred,y_test)"
   ]
  },
  {
   "cell_type": "code",
   "execution_count": 15,
   "metadata": {},
   "outputs": [],
   "source": [
    "models = {\"RandomForestRegressor\":RandomForestRegressor(),'Decision Tree':DecisionTreeRegressor(),'SVR':SVR()}"
   ]
  },
  {
   "cell_type": "code",
   "execution_count": 16,
   "metadata": {},
   "outputs": [
    {
     "name": "stdout",
     "output_type": "stream",
     "text": [
      "RandomForestRegressor :  0.8422294499419642\n",
      "Decision Tree :  0.7885810513566788\n",
      "SVR :  -0.009844738083811366\n"
     ]
    }
   ],
   "source": [
    "for name,model in models.items():\n",
    "    model.fit(X_train,y_train)\n",
    "    y_pred = model.predict(X_test)\n",
    "    acc = r2_score(y_pred=y_pred,y_true=y_test)\n",
    "    print(name, \": \", acc)"
   ]
  },
  {
   "cell_type": "code",
   "execution_count": 17,
   "metadata": {},
   "outputs": [],
   "source": [
    "regressor = RandomForestRegressor()\n",
    "pram = {'max_depth':[3,5,10,None],\n",
    "              'n_estimators':[100,200,300],\n",
    "               'criterion':['poisson','friedman_mse','absolute_error','squared_error']\n",
    "              }"
   ]
  },
  {
   "cell_type": "code",
   "execution_count": 23,
   "metadata": {},
   "outputs": [
    {
     "name": "stdout",
     "output_type": "stream",
     "text": [
      "Fitting 5 folds for each of 10 candidates, totalling 50 fits\n",
      "[CV 1/5] END criterion=absolute_error, max_depth=5, n_estimators=300;, score=0.687 total time= 3.5min\n",
      "[CV 2/5] END criterion=absolute_error, max_depth=5, n_estimators=300;, score=0.922 total time= 3.5min\n",
      "[CV 3/5] END criterion=absolute_error, max_depth=5, n_estimators=300;, score=0.048 total time= 3.1min\n",
      "[CV 4/5] END criterion=absolute_error, max_depth=5, n_estimators=300;, score=0.146 total time= 3.7min\n",
      "[CV 5/5] END criterion=absolute_error, max_depth=5, n_estimators=300;, score=0.553 total time= 3.1min\n",
      "[CV 1/5] END criterion=squared_error, max_depth=10, n_estimators=100;, score=0.691 total time=   0.4s\n",
      "[CV 2/5] END criterion=squared_error, max_depth=10, n_estimators=100;, score=0.918 total time=   0.4s\n",
      "[CV 3/5] END criterion=squared_error, max_depth=10, n_estimators=100;, score=0.047 total time=   0.5s\n",
      "[CV 4/5] END criterion=squared_error, max_depth=10, n_estimators=100;, score=0.150 total time=   0.4s\n",
      "[CV 5/5] END criterion=squared_error, max_depth=10, n_estimators=100;, score=0.515 total time=   0.5s\n",
      "[CV 1/5] END criterion=friedman_mse, max_depth=10, n_estimators=200;, score=0.687 total time=   0.9s\n",
      "[CV 2/5] END criterion=friedman_mse, max_depth=10, n_estimators=200;, score=0.918 total time=   0.9s\n",
      "[CV 3/5] END criterion=friedman_mse, max_depth=10, n_estimators=200;, score=0.046 total time=   0.9s\n",
      "[CV 4/5] END criterion=friedman_mse, max_depth=10, n_estimators=200;, score=0.319 total time=   0.8s\n",
      "[CV 5/5] END criterion=friedman_mse, max_depth=10, n_estimators=200;, score=0.576 total time=   1.0s\n",
      "[CV 1/5] END criterion=absolute_error, max_depth=5, n_estimators=200;, score=0.679 total time= 2.4min\n",
      "[CV 2/5] END criterion=absolute_error, max_depth=5, n_estimators=200;, score=0.921 total time= 2.4min\n",
      "[CV 3/5] END criterion=absolute_error, max_depth=5, n_estimators=200;, score=0.053 total time= 2.1min\n",
      "[CV 4/5] END criterion=absolute_error, max_depth=5, n_estimators=200;, score=0.223 total time= 2.5min\n",
      "[CV 5/5] END criterion=absolute_error, max_depth=5, n_estimators=200;, score=0.561 total time= 2.0min\n",
      "[CV 1/5] END criterion=friedman_mse, max_depth=None, n_estimators=300;, score=0.689 total time=   4.8s\n",
      "[CV 2/5] END criterion=friedman_mse, max_depth=None, n_estimators=300;, score=0.919 total time=   5.1s\n",
      "[CV 3/5] END criterion=friedman_mse, max_depth=None, n_estimators=300;, score=0.050 total time=   4.8s\n",
      "[CV 4/5] END criterion=friedman_mse, max_depth=None, n_estimators=300;, score=0.347 total time=   5.0s\n",
      "[CV 5/5] END criterion=friedman_mse, max_depth=None, n_estimators=300;, score=0.614 total time=   4.9s\n",
      "[CV 1/5] END criterion=poisson, max_depth=10, n_estimators=300;, score=0.703 total time=   1.2s\n",
      "[CV 2/5] END criterion=poisson, max_depth=10, n_estimators=300;, score=0.654 total time=   1.2s\n",
      "[CV 3/5] END criterion=poisson, max_depth=10, n_estimators=300;, score=0.053 total time=   1.2s\n",
      "[CV 4/5] END criterion=poisson, max_depth=10, n_estimators=300;, score=0.249 total time=   1.1s\n",
      "[CV 5/5] END criterion=poisson, max_depth=10, n_estimators=300;, score=0.586 total time=   1.2s\n",
      "[CV 1/5] END criterion=friedman_mse, max_depth=3, n_estimators=200;, score=0.585 total time=   0.3s\n",
      "[CV 2/5] END criterion=friedman_mse, max_depth=3, n_estimators=200;, score=0.826 total time=   0.3s\n",
      "[CV 3/5] END criterion=friedman_mse, max_depth=3, n_estimators=200;, score=0.051 total time=   0.3s\n",
      "[CV 4/5] END criterion=friedman_mse, max_depth=3, n_estimators=200;, score=0.268 total time=   0.3s\n",
      "[CV 5/5] END criterion=friedman_mse, max_depth=3, n_estimators=200;, score=0.513 total time=   0.3s\n",
      "[CV 1/5] END criterion=squared_error, max_depth=10, n_estimators=300;, score=0.690 total time=   1.4s\n",
      "[CV 2/5] END criterion=squared_error, max_depth=10, n_estimators=300;, score=0.921 total time=   1.3s\n",
      "[CV 3/5] END criterion=squared_error, max_depth=10, n_estimators=300;, score=0.045 total time=   1.5s\n",
      "[CV 4/5] END criterion=squared_error, max_depth=10, n_estimators=300;, score=0.291 total time=   1.3s\n",
      "[CV 5/5] END criterion=squared_error, max_depth=10, n_estimators=300;, score=0.577 total time=   1.5s\n",
      "[CV 1/5] END criterion=poisson, max_depth=None, n_estimators=100;, score=0.682 total time=   3.2s\n",
      "[CV 2/5] END criterion=poisson, max_depth=None, n_estimators=100;, score=0.741 total time=   3.2s\n",
      "[CV 3/5] END criterion=poisson, max_depth=None, n_estimators=100;, score=0.050 total time=   3.1s\n",
      "[CV 4/5] END criterion=poisson, max_depth=None, n_estimators=100;, score=0.233 total time=   3.1s\n",
      "[CV 5/5] END criterion=poisson, max_depth=None, n_estimators=100;, score=0.572 total time=   3.0s\n",
      "[CV 1/5] END criterion=absolute_error, max_depth=10, n_estimators=200;, score=0.695 total time= 2.9min\n",
      "[CV 2/5] END criterion=absolute_error, max_depth=10, n_estimators=200;, score=0.922 total time= 2.9min\n",
      "[CV 3/5] END criterion=absolute_error, max_depth=10, n_estimators=200;, score=0.050 total time= 2.5min\n",
      "[CV 4/5] END criterion=absolute_error, max_depth=10, n_estimators=200;, score=0.311 total time= 2.9min\n",
      "[CV 5/5] END criterion=absolute_error, max_depth=10, n_estimators=200;, score=0.599 total time= 2.5min\n"
     ]
    },
    {
     "data": {
      "text/plain": [
       "RandomizedSearchCV(cv=5, estimator=RandomForestRegressor(),\n",
       "                   param_distributions={'criterion': ['poisson', 'friedman_mse',\n",
       "                                                      'absolute_error',\n",
       "                                                      'squared_error'],\n",
       "                                        'max_depth': [3, 5, 10, None],\n",
       "                                        'n_estimators': [100, 200, 300]},\n",
       "                   scoring='r2', verbose=3)"
      ]
     },
     "execution_count": 23,
     "metadata": {},
     "output_type": "execute_result"
    }
   ],
   "source": [
    "cv=RandomizedSearchCV(regressor,param_distributions=pram,scoring='r2',cv=5,verbose=3)\n",
    "cv.fit(X_train,y_train)"
   ]
  },
  {
   "cell_type": "code",
   "execution_count": 24,
   "metadata": {},
   "outputs": [
    {
     "data": {
      "text/plain": [
       "{'n_estimators': 300, 'max_depth': None, 'criterion': 'friedman_mse'}"
      ]
     },
     "execution_count": 24,
     "metadata": {},
     "output_type": "execute_result"
    }
   ],
   "source": [
    "cv.best_params_"
   ]
  },
  {
   "cell_type": "code",
   "execution_count": 25,
   "metadata": {},
   "outputs": [],
   "source": [
    "cv_pred = cv.predict(X_test)"
   ]
  },
  {
   "cell_type": "code",
   "execution_count": 26,
   "metadata": {},
   "outputs": [
    {
     "data": {
      "text/plain": [
       "0.7928021815749706"
      ]
     },
     "execution_count": 26,
     "metadata": {},
     "output_type": "execute_result"
    }
   ],
   "source": [
    "r2_score(cv_pred,y_test)"
   ]
  },
  {
   "cell_type": "code",
   "execution_count": 28,
   "metadata": {},
   "outputs": [],
   "source": [
    "import pickle\n",
    "with open(\"./model/random_forest_regressor.pkl\", \"wb\") as f:\n",
    "    pickle.dump(cv,file=f)\n",
    "    f.close()\n",
    "with open(\"./model/column_transformer.pkl\", \"wb\") as f:\n",
    "    pickle.dump(processor,file=f)"
   ]
  }
 ],
 "metadata": {
  "kernelspec": {
   "display_name": "base",
   "language": "python",
   "name": "python3"
  },
  "language_info": {
   "codemirror_mode": {
    "name": "ipython",
    "version": 3
   },
   "file_extension": ".py",
   "mimetype": "text/x-python",
   "name": "python",
   "nbconvert_exporter": "python",
   "pygments_lexer": "ipython3",
   "version": "3.9.13"
  },
  "orig_nbformat": 4
 },
 "nbformat": 4,
 "nbformat_minor": 2
}
